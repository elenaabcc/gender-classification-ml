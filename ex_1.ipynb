{
 "cells": [
  {
   "cell_type": "markdown",
   "metadata": {},
   "source": [
    "# INSIGHT MEMO: Gender Classification by Contenct Activity"
   ]
  },
  {
   "cell_type": "markdown",
   "metadata": {},
   "source": [
    "### WHAT WE WANT TO ACHIEVE\n",
    "The goal of this project is to predict the gender (male/female) of a device_id based on the web contents they watch in their browser. \n",
    "\n",
    "\n",
    "### HOW WE GET THERE\n",
    "1. **Data Collection and Preprocessing:**\n",
    "   - Load the datasets `ground_truth_ml.csv` and `variables_ml.csv`.\n",
    "   - Merge the datasets on the `id` column.\n",
    "   - Aggregate the content watched by each device_id.\n",
    "   - Preprocess the text data using TF-IDF Vectorizer with Spanish stop words.\n",
    "\n",
    "2. **Addressing Class Imbalance:**\n",
    "   - The dataset is highly imbalanced with 83% females and 17% males.\n",
    "   - To handle this, we applied undersampling to the majority class (females) to balance the classes.\n",
    "\n",
    "3. **Model Building and Evaluation:**\n",
    "   - Train three models: Logistic Regression, XGBoost, and a simple Neural Network.\n",
    "   - Evaluate the models based on accuracy, precision, recall, and F1 score.\n",
    "\n",
    "### VARIABLES\n",
    "- **id:** Unique identifier of a device_id (essentially a single person).\n",
    "- **content:** The name of a single web content.\n",
    "- **gender:** Ground truth gender of the device_id (male 'm' or female 'f').\n",
    "\n",
    "### MODELS PROPOSED\n",
    "1. **Logistic Regression:**\n",
    "   - Simple and interpretable model.\n",
    "   - Moderate performance but good as a baseline.\n",
    "2. **XGBoost:**\n",
    "   - Ensemble model known for its high performance.\n",
    "   - More complex and requires tuning.\n",
    "3. **Neural Network:**\n",
    "   - Flexible and capable of modeling complex patterns.\n",
    "   - Requires more data and computational resources.\n",
    "\n",
    "### ISSUES: UNBALANCED CLASSES PROBLEM\n",
    "The dataset had a significant imbalance with a majority of female samples (83%). \n",
    "\n",
    "To address this, we chose to use undersampling of the female class instead of oversampling the male class. This approach was selected to simplify the data preprocessing steps. Oversampling needs a deep unserstaanding syntheics data techniques.\n",
    "\n",
    "### RESULTS\n",
    "Logistic Regression and XGBoost offer balanced performance, while the Neural Network excels in recall, identifying more actual females at the cost of precision.\n",
    "\n",
    "\n",
    "--> HOW TO READ THE RESULTS documentation -->  https://towardsdatascience.com/accuracy-precision-recall-or-f1-331fb37c5cb9\n",
    "\n",
    "Accuracy: Measures the overall correctness of the model. For example, Logistic Regression has an accuracy of 59.73%, meaning it correctly predicts the gender 59.73% of the time.\n",
    "\n",
    "Precision: Indicates the proportion of positive predictions (females) that are actually correct. For instance, XGBoost's precision of 0.5939 means that when it predicts a device ID as female, it is correct 59.39% of the time.\n",
    "\n",
    "Recall: Measures the model's ability to identify all actual positive cases. The Neural Network's recall of 0.8078 shows it successfully identifies 80.78% of all actual females.\n",
    "\n",
    "F1 Score: The harmonic mean of precision and recall. It provides a balance between precision and recall. For example, Logistic Regression's F1 score of 0.6459 indicates a balanced performance between identifying actual positives and minimizing false positives.\n",
    "\n",
    "\n",
    "### WHAT WE CAN DO BETTER WITH MORE TIME AND RESOURCES\n",
    "1. **Data Augmentation:** Instead of undersampling, explore oversampling techniques such as SMOTE to generate synthetic samples for the minority class.\n",
    "2. **Hyperparameter Tuning:** Perform extensive hyperparameter tuning for models, especially XGBoost and Neural Networks, to improve performance.\n",
    "3. **Feature Engineering:** Investigate additional features or more sophisticated text preprocessing techniques (e.g., word embeddings).\n",
    "4. **Model Complexity:** Implement more complex models such as deep neural networks with more layers and neurons.\n",
    "5. **Ensemble Methods:** Combine predictions from multiple models to create a more robust ensemble model.\n",
    "6. **Cross-Validation:** Use cross-validation to ensure the stability and reliability of the model performance.\n",
    "\n",
    "### CONCLUSION\n",
    "This project demonstrates the process of building and evaluating predictive models on a synthetic dataset with an imbalanced class distribution. Despite the challenges, the models provided reasonable performance, and with further refinement and additional resources, the results can be significantly improved."
   ]
  },
  {
   "cell_type": "markdown",
   "metadata": {},
   "source": [
    "# CODE"
   ]
  },
  {
   "cell_type": "code",
   "execution_count": 37,
   "metadata": {},
   "outputs": [],
   "source": [
    "import pandas as pd\n",
    "from sklearn.model_selection import train_test_split\n",
    "from sklearn.feature_extraction.text import TfidfVectorizer\n",
    "from sklearn.linear_model import LogisticRegression\n",
    "from sklearn.metrics import accuracy_score, confusion_matrix, ConfusionMatrixDisplay, precision_score, recall_score, f1_score\n",
    "import nltk\n",
    "from nltk.corpus import stopwords\n",
    "import matplotlib.pyplot as plt\n",
    "import seaborn as sns\n",
    "from sklearn.utils import resample  \n",
    "import xgboost as xgb\n",
    "import numpy as np\n",
    "from tensorflow.keras.models import Sequential\n",
    "from tensorflow.keras.layers import Dense\n",
    "from tensorflow.keras.utils import to_categorical\n",
    "from sklearn.preprocessing import LabelEncoder\n"
   ]
  },
  {
   "cell_type": "markdown",
   "metadata": {},
   "source": [
    "## Logistic Regression for Gender Prediction"
   ]
  },
  {
   "cell_type": "code",
   "execution_count": 38,
   "metadata": {},
   "outputs": [],
   "source": [
    "# Load datasets\n",
    "ground_truth_df = pd.read_csv('ground_truth_ml.csv')\n",
    "variables_df = pd.read_csv('variables_ml.csv')\n",
    "\n",
    "# Merge datasets on 'id' column\n",
    "final_df = pd.merge(variables_df, ground_truth_df, on='id')"
   ]
  },
  {
   "cell_type": "code",
   "execution_count": 39,
   "metadata": {},
   "outputs": [
    {
     "name": "stderr",
     "output_type": "stream",
     "text": [
      "[nltk_data] Downloading package stopwords to\n",
      "[nltk_data]     /Users/elenaabcc/nltk_data...\n",
      "[nltk_data]   Package stopwords is already up-to-date!\n"
     ]
    }
   ],
   "source": [
    "# Download the stopwords from nltk\n",
    "nltk.download('stopwords')\n",
    "\n",
    "# Get Spanish stop words\n",
    "spanish_stop_words_lg = stopwords.words('spanish')\n",
    "\n",
    "# Initialize TF-IDF Vectorizer with Spanish stop words\n",
    "tfidf_vectorizer_lg = TfidfVectorizer(stop_words=spanish_stop_words_lg, max_features=5000)\n",
    "\n",
    "# Transform the content data into TF-IDF features\n",
    "X_lg = tfidf_vectorizer_lg.fit_transform(final_df['content'])\n",
    "\n",
    "# Encode the gender labels\n",
    "y_lg = final_df['gender'].map({'m': 0, 'f': 1})"
   ]
  },
  {
   "cell_type": "code",
   "execution_count": 40,
   "metadata": {},
   "outputs": [],
   "source": [
    "# Create a DataFrame with features and labels\n",
    "data_with_features_lg = pd.DataFrame(X_lg.toarray(), columns=tfidf_vectorizer_lg.get_feature_names_out())\n",
    "data_with_features_lg['gender'] = y_lg\n",
    "\n",
    "# Separate majority and minority classes\n",
    "majority_class_lg = data_with_features_lg[data_with_features_lg['gender'] == 1]  # Female\n",
    "minority_class_lg = data_with_features_lg[data_with_features_lg['gender'] == 0]  # Male\n",
    "\n",
    "# Undersample majority class\n",
    "majority_class_undersampled_lg = resample(majority_class_lg, \n",
    "                                          replace=False,   # Do not replace\n",
    "                                          n_samples=len(minority_class_lg),  # Match number of minority class\n",
    "                                          random_state=42)  # For reproducibility\n",
    "\n",
    "# Combine minority class with undersampled majority class\n",
    "balanced_df_lg = pd.concat([majority_class_undersampled_lg, minority_class_lg])\n",
    "\n",
    "# Separate features and labels\n",
    "X_balanced = balanced_df_lg.drop('gender', axis=1)\n",
    "y_balanced = balanced_df_lg['gender']"
   ]
  },
  {
   "cell_type": "code",
   "execution_count": 41,
   "metadata": {},
   "outputs": [],
   "source": [
    "# Split the balanced data into training and testing sets\n",
    "X_train_lg, X_test_lg, y_train_lg, y_test_lg = train_test_split(X_balanced, y_balanced, test_size=0.3, random_state=42)\n",
    "\n",
    "# Initialize Logistic Regression model\n",
    "logistic_model_lg = LogisticRegression(max_iter=1000, random_state=42)\n",
    "\n",
    "# Train the model\n",
    "logistic_model_lg.fit(X_train_lg, y_train_lg)\n",
    "\n",
    "# Make predictions on the test set\n",
    "y_pred_lg = logistic_model_lg.predict(X_test_lg)\n",
    "\n",
    "# Calculate the accuracy\n",
    "accuracy_lg = accuracy_score(y_test_lg, y_pred_lg)\n",
    "precision_lg = precision_score(y_test_lg, y_pred_lg)\n",
    "recall_lg = recall_score(y_test_lg, y_pred_lg)\n",
    "f1_lg = f1_score(y_test_lg, y_pred_lg)"
   ]
  },
  {
   "cell_type": "code",
   "execution_count": 42,
   "metadata": {},
   "outputs": [],
   "source": [
    "# Create DataFrame with predictions\n",
    "test_ids_lg = final_df.iloc[y_test_lg.index]['id']\n",
    "predictions_df_models = pd.DataFrame({\n",
    "    'id': test_ids_lg,\n",
    "    'ground_truth_gender': y_test_lg.map({0: 'm', 1: 'f'}).values,\n",
    "    'predicted_gender_lg': pd.Series(y_pred_lg).map({0: 'm', 1: 'f'}).values\n",
    "})\n",
    "\n",
    "# Merge predictions_df_lg with the original variables to get the content\n",
    "content_df_lg = variables_df[variables_df['id'].isin(test_ids_lg)]\n",
    "result_df_lg = pd.merge(predictions_df_models, content_df_lg, on='id', how='left')\n"
   ]
  },
  {
   "cell_type": "code",
   "execution_count": 43,
   "metadata": {},
   "outputs": [],
   "source": [
    "result_df_lg# Save metrics to a DataFrame\n",
    "metrics_df = pd.DataFrame({\n",
    "    'Model': ['Logistic Regression'],\n",
    "    'Accuracy': [accuracy_lg],\n",
    "    'Precision': [precision_lg],\n",
    "    'Recall': [recall_lg],\n",
    "    'F1 Score': [f1_lg]\n",
    "})"
   ]
  },
  {
   "cell_type": "markdown",
   "metadata": {},
   "source": [
    "## XGBoost for Gender Prediction"
   ]
  },
  {
   "cell_type": "code",
   "execution_count": 44,
   "metadata": {},
   "outputs": [
    {
     "name": "stderr",
     "output_type": "stream",
     "text": [
      "/Users/elenaabcc/miniconda3/envs/tensorflow/lib/python3.10/site-packages/xgboost/core.py:158: UserWarning: [14:13:53] WARNING: /Users/runner/work/xgboost/xgboost/src/learner.cc:740: \n",
      "Parameters: { \"use_label_encoder\" } are not used.\n",
      "\n",
      "  warnings.warn(smsg, UserWarning)\n"
     ]
    }
   ],
   "source": [
    "# Initialize XGBoost model\n",
    "xgb_model = xgb.XGBClassifier(use_label_encoder=False, eval_metric='logloss', random_state=42)\n",
    "\n",
    "# Train the XGBoost model\n",
    "xgb_model.fit(X_train_lg, y_train_lg)\n",
    "\n",
    "# Make predictions on the test set\n",
    "y_pred_xgb = xgb_model.predict(X_test_lg)\n",
    "\n",
    "# Calculate metrics for XGBoost model\n",
    "accuracy_xgb = accuracy_score(y_test_lg, y_pred_xgb)\n",
    "precision_xgb = precision_score(y_test_lg, y_pred_xgb)\n",
    "recall_xgb = recall_score(y_test_lg, y_pred_xgb)\n",
    "f1_xgb = f1_score(y_test_lg, y_pred_xgb)\n",
    "\n"
   ]
  },
  {
   "cell_type": "code",
   "execution_count": 45,
   "metadata": {},
   "outputs": [
    {
     "name": "stdout",
     "output_type": "stream",
     "text": [
      "Confusion Matrix for XGBoost:\n",
      "        Predicted Male  Predicted Female\n",
      "Male             18012             11966\n",
      "Female           12187             17501\n"
     ]
    }
   ],
   "source": [
    "\n",
    "# Generate and print the confusion matrix for XGBoost\n",
    "conf_matrix_xgb = confusion_matrix(y_test_lg, y_pred_xgb, labels=[0, 1])\n",
    "print(\"Confusion Matrix for XGBoost:\")\n",
    "print(pd.DataFrame(conf_matrix_xgb, index=['Male', 'Female'], columns=['Predicted Male', 'Predicted Female']))\n"
   ]
  },
  {
   "cell_type": "code",
   "execution_count": 46,
   "metadata": {},
   "outputs": [],
   "source": [
    "# Create DataFrame with predictions for XGBoost\n",
    "predictions_df_models_xgboost = pd.DataFrame({\n",
    "    'id': test_ids_lg,\n",
    "    'ground_truth_gender_xgb': y_test_lg.map({0: 'm', 1: 'f'}).values,\n",
    "    'predicted_gender_xgb': pd.Series(y_pred_xgb).map({0: 'm', 1: 'f'}).values\n",
    "})\n",
    "\n",
    "# Merge predictions_df_xgboost with predictions_df_models by id.. keep only predicted_gender_xgb from predictions_df_models_xgboost\n",
    "predictions_df_models = predictions_df_models.merge(predictions_df_models_xgboost[['id', 'predicted_gender_xgb']], on='id', how='left')"
   ]
  },
  {
   "cell_type": "code",
   "execution_count": 47,
   "metadata": {},
   "outputs": [
    {
     "data": {
      "text/html": [
       "<div>\n",
       "<style scoped>\n",
       "    .dataframe tbody tr th:only-of-type {\n",
       "        vertical-align: middle;\n",
       "    }\n",
       "\n",
       "    .dataframe tbody tr th {\n",
       "        vertical-align: top;\n",
       "    }\n",
       "\n",
       "    .dataframe thead th {\n",
       "        text-align: right;\n",
       "    }\n",
       "</style>\n",
       "<table border=\"1\" class=\"dataframe\">\n",
       "  <thead>\n",
       "    <tr style=\"text-align: right;\">\n",
       "      <th></th>\n",
       "      <th>id</th>\n",
       "      <th>ground_truth_gender</th>\n",
       "      <th>predicted_gender_lg</th>\n",
       "      <th>predicted_gender_xgb</th>\n",
       "    </tr>\n",
       "  </thead>\n",
       "  <tbody>\n",
       "    <tr>\n",
       "      <th>0</th>\n",
       "      <td>cee8a7ca-8fe5-43fb-b01f-4ff5f54b5f6c</td>\n",
       "      <td>f</td>\n",
       "      <td>f</td>\n",
       "      <td>m</td>\n",
       "    </tr>\n",
       "    <tr>\n",
       "      <th>1</th>\n",
       "      <td>9fdd46ec-6760-4b1d-9ac1-b380d4401873</td>\n",
       "      <td>m</td>\n",
       "      <td>f</td>\n",
       "      <td>f</td>\n",
       "    </tr>\n",
       "    <tr>\n",
       "      <th>2</th>\n",
       "      <td>9fdd46ec-6760-4b1d-9ac1-b380d4401873</td>\n",
       "      <td>m</td>\n",
       "      <td>f</td>\n",
       "      <td>f</td>\n",
       "    </tr>\n",
       "    <tr>\n",
       "      <th>3</th>\n",
       "      <td>9fdd46ec-6760-4b1d-9ac1-b380d4401873</td>\n",
       "      <td>m</td>\n",
       "      <td>f</td>\n",
       "      <td>f</td>\n",
       "    </tr>\n",
       "    <tr>\n",
       "      <th>4</th>\n",
       "      <td>9fdd46ec-6760-4b1d-9ac1-b380d4401873</td>\n",
       "      <td>m</td>\n",
       "      <td>f</td>\n",
       "      <td>f</td>\n",
       "    </tr>\n",
       "    <tr>\n",
       "      <th>...</th>\n",
       "      <td>...</td>\n",
       "      <td>...</td>\n",
       "      <td>...</td>\n",
       "      <td>...</td>\n",
       "    </tr>\n",
       "    <tr>\n",
       "      <th>252785</th>\n",
       "      <td>fab9230e-a491-402b-b308-b9c94d85a495</td>\n",
       "      <td>f</td>\n",
       "      <td>f</td>\n",
       "      <td>f</td>\n",
       "    </tr>\n",
       "    <tr>\n",
       "      <th>252786</th>\n",
       "      <td>fab9230e-a491-402b-b308-b9c94d85a495</td>\n",
       "      <td>f</td>\n",
       "      <td>f</td>\n",
       "      <td>f</td>\n",
       "    </tr>\n",
       "    <tr>\n",
       "      <th>252787</th>\n",
       "      <td>8110bc79-bbd0-41e0-b766-4c67c638b93a</td>\n",
       "      <td>f</td>\n",
       "      <td>f</td>\n",
       "      <td>f</td>\n",
       "    </tr>\n",
       "    <tr>\n",
       "      <th>252788</th>\n",
       "      <td>23623383-7fb7-4d87-98d7-7887169f8fc8</td>\n",
       "      <td>m</td>\n",
       "      <td>m</td>\n",
       "      <td>m</td>\n",
       "    </tr>\n",
       "    <tr>\n",
       "      <th>252789</th>\n",
       "      <td>23623383-7fb7-4d87-98d7-7887169f8fc8</td>\n",
       "      <td>m</td>\n",
       "      <td>m</td>\n",
       "      <td>m</td>\n",
       "    </tr>\n",
       "  </tbody>\n",
       "</table>\n",
       "<p>252790 rows × 4 columns</p>\n",
       "</div>"
      ],
      "text/plain": [
       "                                          id ground_truth_gender  \\\n",
       "0       cee8a7ca-8fe5-43fb-b01f-4ff5f54b5f6c                   f   \n",
       "1       9fdd46ec-6760-4b1d-9ac1-b380d4401873                   m   \n",
       "2       9fdd46ec-6760-4b1d-9ac1-b380d4401873                   m   \n",
       "3       9fdd46ec-6760-4b1d-9ac1-b380d4401873                   m   \n",
       "4       9fdd46ec-6760-4b1d-9ac1-b380d4401873                   m   \n",
       "...                                      ...                 ...   \n",
       "252785  fab9230e-a491-402b-b308-b9c94d85a495                   f   \n",
       "252786  fab9230e-a491-402b-b308-b9c94d85a495                   f   \n",
       "252787  8110bc79-bbd0-41e0-b766-4c67c638b93a                   f   \n",
       "252788  23623383-7fb7-4d87-98d7-7887169f8fc8                   m   \n",
       "252789  23623383-7fb7-4d87-98d7-7887169f8fc8                   m   \n",
       "\n",
       "       predicted_gender_lg predicted_gender_xgb  \n",
       "0                        f                    m  \n",
       "1                        f                    f  \n",
       "2                        f                    f  \n",
       "3                        f                    f  \n",
       "4                        f                    f  \n",
       "...                    ...                  ...  \n",
       "252785                   f                    f  \n",
       "252786                   f                    f  \n",
       "252787                   f                    f  \n",
       "252788                   m                    m  \n",
       "252789                   m                    m  \n",
       "\n",
       "[252790 rows x 4 columns]"
      ]
     },
     "execution_count": 47,
     "metadata": {},
     "output_type": "execute_result"
    }
   ],
   "source": [
    "predictions_df_models"
   ]
  },
  {
   "cell_type": "code",
   "execution_count": 48,
   "metadata": {},
   "outputs": [
    {
     "name": "stderr",
     "output_type": "stream",
     "text": [
      "/var/folders/3c/t3n4ptk97wl0rt09z81znxsw0000gn/T/ipykernel_87257/120522594.py:11: FutureWarning: The frame.append method is deprecated and will be removed from pandas in a future version. Use pandas.concat instead.\n",
      "  metrics_df = metrics_df.append(new_metrics_df, ignore_index=True)\n"
     ]
    }
   ],
   "source": [
    "# Append metrics to the existing metrics DataFrame\n",
    "new_metrics_df = pd.DataFrame({\n",
    "    'Model': ['XGBoost'],\n",
    "    'Accuracy': [accuracy_xgb],\n",
    "    'Precision': [precision_xgb],\n",
    "    'Recall': [recall_xgb],\n",
    "    'F1 Score': [f1_xgb]\n",
    "})\n",
    "\n",
    "# Append new metrics to the existing metrics DataFrame\n",
    "metrics_df = metrics_df.append(new_metrics_df, ignore_index=True)\n"
   ]
  },
  {
   "cell_type": "markdown",
   "metadata": {},
   "source": [
    "## NN for Gender Prediction"
   ]
  },
  {
   "cell_type": "code",
   "execution_count": 49,
   "metadata": {},
   "outputs": [],
   "source": [
    "# Encode the gender labels for neural network\n",
    "encoder = LabelEncoder()\n",
    "y_nn = encoder.fit_transform(y_balanced)\n",
    "y_nn = to_categorical(y_nn)\n",
    "\n",
    "# Split the balanced data into training and testing sets\n",
    "X_train_nn, X_test_nn, y_train_nn, y_test_nn = train_test_split(X_balanced, y_nn, test_size=0.3, random_state=42)\n",
    "\n",
    "# Define the neural network model\n",
    "nn_model = Sequential()\n",
    "nn_model.add(Dense(64, input_dim=X_train_nn.shape[1], activation='relu'))\n",
    "nn_model.add(Dense(32, activation='relu'))\n",
    "nn_model.add(Dense(2, activation='softmax'))\n"
   ]
  },
  {
   "cell_type": "code",
   "execution_count": 50,
   "metadata": {},
   "outputs": [
    {
     "name": "stdout",
     "output_type": "stream",
     "text": [
      "Epoch 1/3\n",
      "    1/13922 [..............................] - ETA: 1:35:49 - loss: 0.7020 - accuracy: 0.4000"
     ]
    },
    {
     "name": "stderr",
     "output_type": "stream",
     "text": [
      "2024-07-21 14:13:59.635004: I tensorflow/core/grappler/optimizers/custom_graph_optimizer_registry.cc:114] Plugin optimizer for device_type GPU is enabled.\n"
     ]
    },
    {
     "name": "stdout",
     "output_type": "stream",
     "text": [
      "13922/13922 [==============================] - 116s 8ms/step - loss: 0.6664 - accuracy: 0.5897\n",
      "Epoch 2/3\n",
      "13922/13922 [==============================] - 116s 8ms/step - loss: 0.6630 - accuracy: 0.5947\n",
      "Epoch 3/3\n",
      "13922/13922 [==============================] - 116s 8ms/step - loss: 0.6629 - accuracy: 0.5942\n"
     ]
    },
    {
     "data": {
      "text/plain": [
       "<keras.src.callbacks.History at 0x1784097b0>"
      ]
     },
     "execution_count": 50,
     "metadata": {},
     "output_type": "execute_result"
    }
   ],
   "source": [
    "\n",
    "#! #########################################################################\n",
    "#! BEFORE RUNNING THIS PLEASE NOTE: \n",
    "#! this runs takes minutes to be complete. Increase or decrease the number of epochs as needed.\n",
    "#! #########################################################################\n",
    "\n",
    "# Compile the model\n",
    "nn_model.compile(loss='categorical_crossentropy', optimizer='adam', metrics=['accuracy'])\n",
    "\n",
    "# Train the model\n",
    "nn_model.fit(X_train_nn, y_train_nn, \n",
    "             epochs=3, #! CHOOSE UR THE NUMBER OF EPOCHS -- THE PERFORMACNE RESULT OF THIS PROJECT IS BASED ON 20 EPOCH \n",
    "             batch_size=10, \n",
    "             verbose=1)\n"
   ]
  },
  {
   "cell_type": "code",
   "execution_count": 51,
   "metadata": {},
   "outputs": [
    {
     "name": "stderr",
     "output_type": "stream",
     "text": [
      "2024-07-21 14:19:47.173646: I tensorflow/core/grappler/optimizers/custom_graph_optimizer_registry.cc:114] Plugin optimizer for device_type GPU is enabled.\n"
     ]
    },
    {
     "name": "stdout",
     "output_type": "stream",
     "text": [
      "Neural Network Accuracy: 59.77%\n"
     ]
    }
   ],
   "source": [
    "# Evaluate the model\n",
    "loss, accuracy_nn = nn_model.evaluate(X_test_nn, y_test_nn, verbose=0)\n",
    "print(f\"Neural Network Accuracy: {accuracy_nn * 100:.2f}%\")\n"
   ]
  },
  {
   "cell_type": "code",
   "execution_count": 52,
   "metadata": {},
   "outputs": [
    {
     "name": "stdout",
     "output_type": "stream",
     "text": [
      " 107/1865 [>.............................] - ETA: 2s"
     ]
    },
    {
     "name": "stderr",
     "output_type": "stream",
     "text": [
      "2024-07-21 14:20:00.225315: I tensorflow/core/grappler/optimizers/custom_graph_optimizer_registry.cc:114] Plugin optimizer for device_type GPU is enabled.\n"
     ]
    },
    {
     "name": "stdout",
     "output_type": "stream",
     "text": [
      "1865/1865 [==============================] - 3s 1ms/step\n",
      "Confusion Matrix for Neural Network:\n",
      "        Predicted Male  Predicted Female\n",
      "Male             13399             16579\n",
      "Female            7424             22264\n"
     ]
    }
   ],
   "source": [
    "# Make predictions on the test set\n",
    "y_pred_nn = nn_model.predict(X_test_nn)\n",
    "y_pred_nn = np.argmax(y_pred_nn, axis=1)\n",
    "y_test_nn = np.argmax(y_test_nn, axis=1)\n",
    "\n",
    "# Calculate metrics for Neural Network\n",
    "accuracy_nn = accuracy_score(y_test_nn, y_pred_nn)\n",
    "precision_nn = precision_score(y_test_nn, y_pred_nn)\n",
    "recall_nn = recall_score(y_test_nn, y_pred_nn)\n",
    "f1_nn = f1_score(y_test_nn, y_pred_nn)\n",
    "\n",
    "# Generate confusion matrix for Neural Network\n",
    "conf_matrix_nn = confusion_matrix(y_test_nn, y_pred_nn)\n",
    "print(\"Confusion Matrix for Neural Network:\")\n",
    "print(pd.DataFrame(conf_matrix_nn, index=['Male', 'Female'], columns=['Predicted Male', 'Predicted Female']))\n"
   ]
  },
  {
   "cell_type": "code",
   "execution_count": 53,
   "metadata": {},
   "outputs": [],
   "source": [
    "# Create DataFrame with predictions for Neural Network\n",
    "predictions_df_nn = pd.DataFrame({\n",
    "    'id': final_df.iloc[y_test_lg.index]['id'],\n",
    "    'ground_truth_gender': pd.Series(y_test_nn).map({0: 'm', 1: 'f'}).values,\n",
    "    'predicted_gender_nn': pd.Series(y_pred_nn).map({0: 'm', 1: 'f'}).values\n",
    "})\n",
    "\n",
    "# Merge Neural Network predictions with the existing predictions DataFrame\n",
    "predictions_df_models = pd.merge(predictions_df_models, predictions_df_nn[['id', 'predicted_gender_nn']], on='id', how='left')\n"
   ]
  },
  {
   "cell_type": "code",
   "execution_count": 54,
   "metadata": {},
   "outputs": [],
   "source": [
    "# Append metrics to the existing metrics DataFrame\n",
    "new_metrics_nn = pd.DataFrame({\n",
    "    'Model': ['Neural Network'],\n",
    "    'Accuracy': [accuracy_nn],\n",
    "    'Precision': [precision_nn],\n",
    "    'Recall': [recall_nn],\n",
    "    'F1 Score': [f1_nn]\n",
    "})\n",
    "\n",
    "# Append new metrics to the existing metrics DataFrame\n",
    "metrics_df = pd.concat([metrics_df, new_metrics_nn], ignore_index=True)\n",
    "\n",
    "# Save updated metrics DataFrame to a CSV file\n",
    "metrics_df.to_csv('model_metrics_combined.csv', index=False)\n"
   ]
  },
  {
   "cell_type": "code",
   "execution_count": 55,
   "metadata": {},
   "outputs": [
    {
     "data": {
      "text/html": [
       "<div>\n",
       "<style scoped>\n",
       "    .dataframe tbody tr th:only-of-type {\n",
       "        vertical-align: middle;\n",
       "    }\n",
       "\n",
       "    .dataframe tbody tr th {\n",
       "        vertical-align: top;\n",
       "    }\n",
       "\n",
       "    .dataframe thead th {\n",
       "        text-align: right;\n",
       "    }\n",
       "</style>\n",
       "<table border=\"1\" class=\"dataframe\">\n",
       "  <thead>\n",
       "    <tr style=\"text-align: right;\">\n",
       "      <th></th>\n",
       "      <th>Model</th>\n",
       "      <th>Accuracy</th>\n",
       "      <th>Precision</th>\n",
       "      <th>Recall</th>\n",
       "      <th>F1 Score</th>\n",
       "    </tr>\n",
       "  </thead>\n",
       "  <tbody>\n",
       "    <tr>\n",
       "      <th>0</th>\n",
       "      <td>Logistic Regression</td>\n",
       "      <td>0.597258</td>\n",
       "      <td>0.574112</td>\n",
       "      <td>0.738177</td>\n",
       "      <td>0.645889</td>\n",
       "    </tr>\n",
       "    <tr>\n",
       "      <th>1</th>\n",
       "      <td>XGBoost</td>\n",
       "      <td>0.595197</td>\n",
       "      <td>0.593919</td>\n",
       "      <td>0.589497</td>\n",
       "      <td>0.591700</td>\n",
       "    </tr>\n",
       "    <tr>\n",
       "      <th>2</th>\n",
       "      <td>Neural Network</td>\n",
       "      <td>0.597711</td>\n",
       "      <td>0.573179</td>\n",
       "      <td>0.749933</td>\n",
       "      <td>0.649750</td>\n",
       "    </tr>\n",
       "  </tbody>\n",
       "</table>\n",
       "</div>"
      ],
      "text/plain": [
       "                 Model  Accuracy  Precision    Recall  F1 Score\n",
       "0  Logistic Regression  0.597258   0.574112  0.738177  0.645889\n",
       "1              XGBoost  0.595197   0.593919  0.589497  0.591700\n",
       "2       Neural Network  0.597711   0.573179  0.749933  0.649750"
      ]
     },
     "execution_count": 55,
     "metadata": {},
     "output_type": "execute_result"
    }
   ],
   "source": [
    "metrics_df"
   ]
  },
  {
   "cell_type": "code",
   "execution_count": 59,
   "metadata": {},
   "outputs": [],
   "source": [
    "predictions_df_models.to_csv('predictions_df_models.csv', index=False)\n"
   ]
  },
  {
   "cell_type": "code",
   "execution_count": null,
   "metadata": {},
   "outputs": [],
   "source": [
    "predictions_df_models"
   ]
  }
 ],
 "metadata": {
  "kernelspec": {
   "display_name": "Python 3.10 (tensorflow)",
   "language": "python",
   "name": "tensorflow"
  },
  "language_info": {
   "codemirror_mode": {
    "name": "ipython",
    "version": 3
   },
   "file_extension": ".py",
   "mimetype": "text/x-python",
   "name": "python",
   "nbconvert_exporter": "python",
   "pygments_lexer": "ipython3",
   "version": "3.10.12"
  }
 },
 "nbformat": 4,
 "nbformat_minor": 2
}
